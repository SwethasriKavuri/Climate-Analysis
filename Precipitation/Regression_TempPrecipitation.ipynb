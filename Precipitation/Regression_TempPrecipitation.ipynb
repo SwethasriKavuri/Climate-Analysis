{
 "cells": [
  {
   "cell_type": "code",
   "execution_count": 2,
   "metadata": {
    "collapsed": true
   },
   "outputs": [],
   "source": [
    "import pandas as pd\n",
    "import matplotlib.pyplot as plt\n",
    "import matplotlib.mlab as mlab\n",
    "import numpy as np\n",
    "import seaborn as sns\n",
    "from scipy import stats\n",
    "import scipy\n",
    "import datetime\n",
    "import math\n",
    "from sklearn.linear_model import LinearRegression"
   ]
  },
  {
   "cell_type": "code",
   "execution_count": 3,
   "metadata": {
    "collapsed": true
   },
   "outputs": [],
   "source": [
    "data = pd.read_csv(\"FinalDataset-1990-2018.csv\")\n",
    "data_temp1 = np.array(data['TAVG'])\n",
    "data_temp = data['TAVG'] - data['TAVG'].shift(1)\n",
    "# Defining the error functions\n",
    "\n",
    "def SSE(x):\n",
    "    x_bar = np.mean(x)\n",
    "    sse = 0\n",
    "    for i in x:\n",
    "        sse += (i-x_bar)**2\n",
    "    return(sse)\n",
    "    \n",
    "def MAPE(y, y_hat):\n",
    "    temp = 0\n",
    "    for i in range(len(y)):\n",
    "        temp += abs((y[i]-y_hat[i])/y[i])\n",
    "    temp = (100/len(y))*temp\n",
    "    return(temp)\n",
    "\n"
   ]
  },
  {
   "cell_type": "code",
   "execution_count": 4,
   "metadata": {},
   "outputs": [
    {
     "name": "stdout",
     "output_type": "stream",
     "text": [
      "-0.02202380952380954\n",
      "test statistic -0.052062\n"
     ]
    }
   ],
   "source": [
    "### 1. Temperature change -- Walds test\n",
    "\n",
    "n,_ = data.shape\n",
    "theta_0 = 0 #true value\n",
    "theta_cap = data_temp.mean() #estimated value\n",
    "se = se_not = data_temp.std()/math.sqrt(n) #standard error of the data - this another statistic used\n",
    "print(theta_cap)\n",
    "w = (theta_cap - theta_0)/se\n",
    "\n",
    "print(\"test statistic %f\"%w) #reject/accept based on the alpha value assumed."
   ]
  },
  {
   "cell_type": "code",
   "execution_count": 5,
   "metadata": {},
   "outputs": [
    {
     "name": "stdout",
     "output_type": "stream",
     "text": [
      "Correlation value =  0.27955022607251706\n"
     ]
    },
    {
     "data": {
      "text/plain": [
       "LinregressResult(slope=0.02495262563007171, intercept=1.4824862171852613, rvalue=0.2795502260725171, pvalue=1.8167517388959848e-07, stderr=0.004682357003532402)"
      ]
     },
     "execution_count": 5,
     "metadata": {},
     "output_type": "execute_result"
    }
   ],
   "source": [
    "### 2. Corelation test\n",
    "corelation = data['TAVG'].corr(data['PCP'])\n",
    "\n",
    "\n",
    "\n",
    "print(\"Correlation value = \", corelation)\n",
    "\n",
    "scipy.stats.linregress(data[\"TAVG\"],data[\"PCP\"])"
   ]
  },
  {
   "cell_type": "code",
   "execution_count": 6,
   "metadata": {},
   "outputs": [
    {
     "name": "stdout",
     "output_type": "stream",
     "text": [
      "High five! You successfully sent some data to your account on plotly. View your plot in your browser at https://plot.ly/~raghunanj/0 or inside your plot.ly account where it is named 'Manually Set Range'\n"
     ]
    },
    {
     "data": {
      "text/html": [
       "<iframe id=\"igraph\" scrolling=\"no\" style=\"border:none;\" seamless=\"seamless\" src=\"https://plot.ly/~raghunanj/0.embed\" height=\"525px\" width=\"100%\"></iframe>"
      ],
      "text/plain": [
       "<plotly.tools.PlotlyDisplay object>"
      ]
     },
     "execution_count": 6,
     "metadata": {},
     "output_type": "execute_result"
    }
   ],
   "source": [
    "import plotly\n",
    "import plotly.plotly as py\n",
    "import plotly.graph_objs as go\n",
    "\n",
    "import pandas as pd\n",
    "plotly.tools.set_credentials_file(username='raghunanj', api_key='kVCWX07IGXc9DUK5USHf')\n",
    "\n",
    "df = pd.read_csv(\"FinalDataset-1990-2018.csv\")\n",
    "df['period'] = df[['Year', 'Month']].apply(lambda x: ''.join(str(x)), axis=1)\n",
    "\n",
    "trace_high = go.Scatter(\n",
    "                x=df['period'],\n",
    "                y=df['TAVG'],\n",
    "                name = \"Average Temperature\",\n",
    "                line = dict(color = '#17BECF'),\n",
    "                opacity = 0.8)\n",
    "\n",
    "trace_low = go.Scatter(\n",
    "                x=df['period'],\n",
    "                y=df['PCP'],\n",
    "                name = \"Precipitation Index\",\n",
    "                line = dict(color = '#7F7F7F'),\n",
    "                opacity = 0.8)\n",
    "\n",
    "data_1 = [trace_high,trace_low]\n",
    "\n",
    "layout = dict(\n",
    "    title = \"Time series plot from 1990 - 2018 for each month\",\n",
    "    xaxis = dict(\n",
    "        range = ['1990-01-01','2018-01-31'])\n",
    ")\n",
    "\n",
    "\n",
    "fig = dict(data=data_1, layout=layout)\n",
    "py.iplot(fig, filename = \"Manually Set Range\")"
   ]
  },
  {
   "cell_type": "code",
   "execution_count": 11,
   "metadata": {},
   "outputs": [
    {
     "data": {
      "image/png": "[encoded data removed]",
      "text/plain": [
       "<matplotlib.figure.Figure at 0x10db78a90>"
      ]
     },
     "metadata": {},
     "output_type": "display_data"
    },
    {
     "data": {
      "image/png": "[encoded data removed]",
      "text/plain": [
       "<matplotlib.figure.Figure at 0x10d9ca860>"
      ]
     },
     "metadata": {},
     "output_type": "display_data"
    },
    {
     "name": "stdout",
     "output_type": "stream",
     "text": [
      "Ks_2sampResult(statistic=0.08902077151335308, pvalue=0.13121946534122655)\n"
     ]
    }
   ],
   "source": [
    "# #print(data_input)\n",
    "data = pd.read_csv(\"FinalDataset-1990-2018.csv\")\n",
    "x_axis = np.array(data[['PCP']])\n",
    "y_axis = np.array(data[['TAVG']])\n",
    "# linreg = LinearRegression()\n",
    "# model = linreg.fit(x_axis, y_axis)\n",
    "# model.coef_\n",
    "\n",
    "\n",
    "import matplotlib.pyplot as plt\n",
    "import numpy as np\n",
    "from scipy.stats import gaussian_kde\n",
    "# data = [1.5]*7 + [2.5]*2 + [3.5]*8 + [4.5]*3 + [5.5]*1 + [6.5]*8\n",
    "density = gaussian_kde(data['PCP'])\n",
    "xs = np.linspace(0,10,200)\n",
    "density.covariance_factor = lambda : .25\n",
    "density._compute_covariance()\n",
    "plt.plot(xs,density(xs))\n",
    "plt.title(\"Density plot for Precipitation Index\")\n",
    "plt.xlabel('Precipitation Index')\n",
    "plt.ylabel('Pr[x=X]')\n",
    "plt.show()\n",
    "\n",
    "\n",
    "plt.hist(x_axis)\n",
    "plt.title(\"Histogram plot for Precipitation Index\")\n",
    "plt.xlabel('Precipitation Index')\n",
    "plt.ylabel('Residuals')\n",
    "plt.show()\n",
    "\n",
    "\n",
    "# ks_results = scipy.stats.kstest(x_axis, cdf='norm')\n",
    "# print (\"ks_statistic\", ks_results )\n",
    "\n",
    "\n",
    "theta_cap_dist = pd.Series(data['PCP']) #my data\n",
    "norm_dist = np.random.normal(loc=data['PCP'].mean(), scale=data['PCP'].std(), size=337) #generating a normal distribution\n",
    "print(scipy.stats.ks_2samp(theta_cap_dist,norm_dist)) #check the score\n",
    "\n",
    "\n",
    "# plt.figure(figsize=(10,10))\n",
    "# plt.title(\"Residual vs Predicted PTS\")\n",
    "# plt.scatter(x_axis, y_axis)\n",
    "# plt.xlabel('PTS')\n",
    "# plt.ylabel('Residuals')\n",
    "# plt.savefig('Residual1vsPredictedPTS', dpi=250)\n",
    "# plt.show()\n",
    "\n",
    "# pred = x_train.dot(beta_hat)"
   ]
  },
  {
   "cell_type": "code",
   "execution_count": 10,
   "metadata": {},
   "outputs": [
    {
     "data": {
      "image/png": "[encoded data removed]",
      "text/plain": [
       "<matplotlib.figure.Figure at 0x10e5cd048>"
      ]
     },
     "metadata": {},
     "output_type": "display_data"
    },
    {
     "data": {
      "image/png": "[encoded data removed]",
      "text/plain": [
       "<matplotlib.figure.Figure at 0x10a543128>"
      ]
     },
     "metadata": {},
     "output_type": "display_data"
    },
    {
     "data": {
      "image/png": "[encoded data removed]",
      "text/plain": [
       "<matplotlib.figure.Figure at 0x1a13428400>"
      ]
     },
     "metadata": {},
     "output_type": "display_data"
    },
    {
     "data": {
      "image/png": "[encoded data removed]",
      "text/plain": [
       "<matplotlib.figure.Figure at 0x1a1345ad30>"
      ]
     },
     "metadata": {},
     "output_type": "display_data"
    }
   ],
   "source": [
    "###3. Flood Vs Drought\n",
    "data = pd.read_csv(\"FinalDataset-1990-2018.csv\")\n",
    "\n",
    "\n",
    "Flood_Count = data.loc[(data['PDSI']> 3.0)].groupby(['Year']).size().reset_index(name='FloodCount')\n",
    "#xi = np.arange(len(Flood_Count)\n",
    "slopeF, interceptF, r_valueF, p_valueF, std_errF = stats.linregress(Flood_Count['Year'], Flood_Count['FloodCount'])\n",
    "line1 = interceptF + slopeF * Flood_Count['Year']\n",
    "#plt.plot(line1,'r-')\n",
    "#plt.plot(Flood_Count['Year'], Flood_Count['FloodCount'],'ro')\n",
    "\n",
    "\n",
    "#plt.plot(Flood_Count['Year'], Flood_Count['FloodCount'],'ro')\n",
    "plt.figure(figsize=(6,6))\n",
    "plt.title(\"YEAR vs FLOODS \")\n",
    "plt.scatter(Flood_Count['Year'], Flood_Count['FloodCount'])\n",
    "plt.xlabel('Year')\n",
    "plt.ylabel('FloodCount')\n",
    "plt.show()\n",
    "\n",
    "\n",
    "#print(t_old)\n",
    "DroughtCount = data.loc[(data['PDSI']< -3.0)].groupby(['Year']).size().reset_index(name='Droughtcount')\n",
    "#print(DroughtCount)\n",
    "slopeD, interceptD, r_valueD, p_valueD, std_errD = stats.linregress(DroughtCount['Year'], DroughtCount['Droughtcount'])\n",
    "line2 = interceptD + slopeD * DroughtCount['Year']\n",
    "\n",
    "plt.plot(line1,'r-')\n",
    "plt.plot(line2,'b-')\n",
    "\n",
    "#plt.plot(Flood_Count['Year'], Flood_Count['FloodCount'],'ro')\n",
    "plt.figure(figsize=(6,6))\n",
    "plt.title(\"YEAR vs DROUGHT \")\n",
    "plt.scatter(DroughtCount['Year'], DroughtCount['Droughtcount'])\n",
    "plt.xlabel('Year')\n",
    "plt.ylabel('Droughtcount')\n",
    "plt.show()\n",
    "\n",
    "\n",
    "# Avg_Temperature = data.loc[data['TAVG']].groupby(['Year']).mean() #.reset_index(name='TAVG')\n",
    "# print (Avg_Temperature)\n",
    "# Avg_Temperature = Avg_Temperature [['TAVG']]\n"
   ]
  },
  {
   "cell_type": "code",
   "execution_count": 11,
   "metadata": {
    "collapsed": true
   },
   "outputs": [],
   "source": [
    "\n",
    "\n",
    "# Code for Maximum likelihood function\n",
    "# # Set up your x values\n",
    "\n",
    "\n",
    "\n",
    "# import plotly.plotly as py\n",
    "# import plotly.graph_objs as go\n",
    "\n",
    "# import pandas as pd\n",
    "\n",
    "# df = pd.read_csv(\"https://github.com/raghunanj/Convex_Optimization/blob/master/FinalDataset-1990-2018.csv\")\n",
    "# #df['period'] = df[['Year', 'Month']].apply(lambda x: ''.join(str(x)), axis=1)\n",
    "# # df[\"period\"] = df[\"Year\"].map(str) + df[\"Month\"]\n",
    "\n",
    "# trace_high = go.Scatter(\n",
    "#     x=df['Year'],\n",
    "#     y=df['TAVG'],\n",
    "#     name = \"Average Temperature\",\n",
    "#     line = dict(color = '#17BECF'),\n",
    "#     opacity = 0.8)\n",
    "\n",
    "# trace_low = go.Scatter(\n",
    "#     x=df['Year'],\n",
    "#     y=df['PCP'],\n",
    "#     name = \"Precipitation Index\",\n",
    "#     line = dict(color = '#7F7F7F'),\n",
    "#     opacity = 0.8)\n",
    "\n",
    "# data = [trace_high,trace_low]\n",
    "\n",
    "# layout = dict(\n",
    "#     title='Time Series with Rangeslider',\n",
    "#     xaxis=dict(\n",
    "#         rangeselector=dict(\n",
    "#             buttons=list([\n",
    "#                 dict(count=1,\n",
    "#                      label='1m',\n",
    "#                      step='month',\n",
    "#                      stepmode='backward'),\n",
    "#                 dict(count=6,\n",
    "#                      label='6m',\n",
    "#                      step='month',\n",
    "#                      stepmode='backward'),\n",
    "#                 dict(step='all')\n",
    "#             ])\n",
    "#         ),\n",
    "#         rangeslider=dict(),\n",
    "#         type='date'\n",
    "#     )\n",
    "# )\n",
    "\n",
    "# fig = dict(data=data, layout=layout)\n",
    "# py.iplot(fig, filename = \"Time Series with Rangeslider\")"
   ]
  },
  {
   "cell_type": "code",
   "execution_count": null,
   "metadata": {
    "collapsed": true
   },
   "outputs": [],
   "source": []
  }
 ],
 "metadata": {
  "kernelspec": {
   "display_name": "Python 3",
   "language": "python",
   "name": "python3"
  },
  "language_info": {
   "codemirror_mode": {
    "name": "ipython",
    "version": 3
   },
   "file_extension": ".py",
   "mimetype": "text/x-python",
   "name": "python",
   "nbconvert_exporter": "python",
   "pygments_lexer": "ipython3",
   "version": "3.6.3"
  }
 },
 "nbformat": 4,
 "nbformat_minor": 2
}
