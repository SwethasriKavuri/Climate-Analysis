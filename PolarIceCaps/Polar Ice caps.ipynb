{
 "cells": [
  {
   "cell_type": "code",
   "execution_count": 1,
   "metadata": {},
   "outputs": [],
   "source": [
    "import pandas as pd\n",
    "import numpy as np\n",
    "import matplotlib.pyplot as plt\n",
    "import scipy\n",
    "df_ice = pd.read_csv(\"./icesheets.csv\")"
   ]
  },
  {
   "cell_type": "code",
   "execution_count": 2,
   "metadata": {},
   "outputs": [
    {
     "name": "stdout",
     "output_type": "stream",
     "text": [
      "Value at year 1979 =  6455322.562999999\n"
     ]
    }
   ],
   "source": [
    "val1979 = df_ice[(df_ice[\"Year\"]==1979)][\"IceArea\"].values[0]\n",
    "print (\"Value at year 1979 = \", val1979)\n",
    "df_ice[\"change\"] = df_ice[\"IceArea\"] - val1979\n",
    "df_ice.to_csv(\"./icesheets.csv\")"
   ]
  },
  {
   "cell_type": "code",
   "execution_count": 3,
   "metadata": {},
   "outputs": [],
   "source": [
    "df_temp = pd.read_csv('./Temperature.csv')\n",
    "df_output = pd.DataFrame(columns=[\"Year\",\"Temperature\"])\n",
    "for year in range(1979,2013):\n",
    "        tmp = df_temp[(df_temp.year==int(year))].Avg_temp.mean()\n",
    "        df_output = df_output.append({'Year':str(year),'Temperature':tmp},ignore_index=True)  \n",
    "df_output.to_csv('./GlobalTempCleaned.csv')        "
   ]
  },
  {
   "cell_type": "code",
   "execution_count": 4,
   "metadata": {},
   "outputs": [
    {
     "name": "stdout",
     "output_type": "stream",
     "text": [
      "Value at year 1979 =  18.6759500376\n"
     ]
    },
    {
     "data": {
      "text/plain": [
       "-0.7926009207485141"
      ]
     },
     "execution_count": 4,
     "metadata": {},
     "output_type": "execute_result"
    }
   ],
   "source": [
    "df_temp = pd.read_csv('./GlobalTemp.csv')\n",
    "val1979 = df_temp[(df_temp[\"Year\"]==1979)][\"Temperature\"].values[0]\n",
    "print (\"Value at year 1979 = \", val1979)\n",
    "df_temp[\"change\"] = df_temp[\"Temperature\"] - val1979\n",
    "\n",
    "df_temp.to_csv(\"./GlobalTemp.csv\")\n",
    "\n",
    "df_temp['change'].corr(df_ice['change'])"
   ]
  },
  {
   "cell_type": "code",
   "execution_count": 5,
   "metadata": {},
   "outputs": [],
   "source": [
    "df_temp = pd.read_csv('./GlobalTemp.csv')\n",
    "yearList = []\n",
    "Average_Temperature = []\n",
    "for year in range(1979,2013):\n",
    "    yearList.append(year)   \n",
    "Average_Temperature = df_temp[\"change\"].tolist()    \n"
   ]
  },
  {
   "cell_type": "code",
   "execution_count": 6,
   "metadata": {},
   "outputs": [],
   "source": [
    "df_ice = pd.read_csv(\"./icesheets.csv\")\n",
    "Ice_Area = []\n",
    "Ice_Area = df_ice[\"change\"].tolist()"
   ]
  },
  {
   "cell_type": "code",
   "execution_count": 7,
   "metadata": {},
   "outputs": [
    {
     "name": "stdout",
     "output_type": "stream",
     "text": [
      "39\n",
      "39\n"
     ]
    }
   ],
   "source": [
    "x = np.array(Average_Temperature).reshape(-1, 1)\n",
    "y = np.array(Ice_Area)\n",
    "print(x.size)\n",
    "print(y.size)"
   ]
  },
  {
   "cell_type": "code",
   "execution_count": 8,
   "metadata": {},
   "outputs": [
    {
     "name": "stderr",
     "output_type": "stream",
     "text": [
      "/Library/Frameworks/Python.framework/Versions/3.6/lib/python3.6/site-packages/scipy/linalg/basic.py:1226: RuntimeWarning: internal gelsd driver lwork query error, required iwork dimension not returned. This is likely the result of LAPACK bug 0038, fixed in LAPACK 3.2.2 (released July 21, 2010). Falling back to 'gelss' driver.\n",
      "  warnings.warn(mesg, RuntimeWarning)\n"
     ]
    },
    {
     "data": {
      "text/plain": [
       "LinearRegression(copy_X=True, fit_intercept=True, n_jobs=1, normalize=False)"
      ]
     },
     "execution_count": 8,
     "metadata": {},
     "output_type": "execute_result"
    }
   ],
   "source": [
    "from sklearn.linear_model import LinearRegression \n",
    "regressor = LinearRegression()\n",
    "regressor.fit(x, y)"
   ]
  },
  {
   "cell_type": "code",
   "execution_count": 9,
   "metadata": {
    "scrolled": true
   },
   "outputs": [
    {
     "data": {
      "image/png": "[encoded data removed]",
      "text/plain": [
       "<Figure size 432x288 with 1 Axes>"
      ]
     },
     "metadata": {},
     "output_type": "display_data"
    }
   ],
   "source": [
    "plt.scatter(x, y, color= 'red')\n",
    "plt.plot(x, regressor.predict(x), color = 'blue', label = '')\n",
    "plt.title (\"Ice Sheets vs Temperature\")\n",
    "plt.xlabel(\"Average Temperature\")\n",
    "plt.ylabel(\"Area of Ice Sheets\")\n",
    "plt.show()"
   ]
  },
  {
   "cell_type": "code",
   "execution_count": 10,
   "metadata": {},
   "outputs": [
    {
     "data": {
      "text/plain": [
       "LinregressResult(slope=-2661822.909846024, intercept=-38291.9292011722, rvalue=-0.7926009207485143, pvalue=1.8190906299864145e-09, stderr=336642.5002614212)"
      ]
     },
     "execution_count": 10,
     "metadata": {},
     "output_type": "execute_result"
    }
   ],
   "source": [
    "scipy.stats.linregress(df_temp[\"change\"],df_ice[\"change\"])"
   ]
  },
  {
   "cell_type": "code",
   "execution_count": 11,
   "metadata": {},
   "outputs": [
    {
     "name": "stdout",
     "output_type": "stream",
     "text": [
      "theta_cap :  -1033562.0320512813\n",
      "theta_0 :  -1000000\n",
      "walds-statistic :  -0.1954835776327572\n",
      "95% confidence interval -1370068.983771 to -697055.080331\n"
     ]
    }
   ],
   "source": [
    "df_ice = pd.read_csv(\"./icesheets.csv\")\n",
    "theta_0 =  -1000000\n",
    "theta_cap = df_ice.change.mean()\n",
    "se = df_ice.change.std()\n",
    "n = 6.2449979984 #sqrt(39)\n",
    "se = se/n\n",
    "se_cap = se\n",
    "w = (theta_cap - theta_0)/se\n",
    "print(\"theta_cap : \",theta_cap)\n",
    "print(\"theta_0 : \",theta_0)\n",
    "print(\"walds-statistic : \",w)\n",
    "print(\"95%% confidence interval %f to %f\"%(theta_cap-1.96*se_cap,theta_cap+1.96*se_cap))"
   ]
  },
  {
   "cell_type": "code",
   "execution_count": 12,
   "metadata": {},
   "outputs": [
    {
     "data": {
      "image/png": "[encoded data removed]",
      "text/plain": [
       "<Figure size 432x288 with 1 Axes>"
      ]
     },
     "metadata": {},
     "output_type": "display_data"
    },
    {
     "data": {
      "text/plain": [
       "LinregressResult(slope=-1.832087096293542e-05, intercept=22.57569604151481, rvalue=-0.8011402418310739, pvalue=1.4979318571289863e-06, stderr=2.8537824901144324e-06)"
      ]
     },
     "execution_count": 12,
     "metadata": {},
     "output_type": "execute_result"
    }
   ],
   "source": [
    "\n",
    "df_ice = pd.read_csv(\"./icesheets.csv\")\n",
    "\n",
    "val1993 = df_ice[(df_ice[\"Year\"]==1993)][\"IceArea\"].values[0]\n",
    "\n",
    "df_ice[\"change1993\"] = df_ice[\"IceArea\"] - val1993\n",
    "\n",
    "df_ice.to_csv(\"./icesheets.csv\")\n",
    "\n",
    "df_sea = pd.read_csv(\"./sealevelrise.csv\")\n",
    "\n",
    "df_sea['gmsl_change'].corr(df_sea['ice_change'])\n",
    "\n",
    "sea_level = []\n",
    "\n",
    "sea_level = df_sea[\"gmsl_change\"].tolist()\n",
    "\n",
    "ice_level = []\n",
    "\n",
    "ice_level = df_sea[\"ice_change\"].tolist()\n",
    "\n",
    "x = np.array(ice_level).reshape(-1, 1)\n",
    "y = np.array(sea_level)\n",
    "\n",
    "from sklearn.linear_model import LinearRegression \n",
    "regressor = LinearRegression()\n",
    "regressor.fit(x, y)\n",
    "\n",
    "plt.scatter(x, y, color= 'red')\n",
    "plt.plot(x, regressor.predict(x), color = 'blue', label = '')\n",
    "plt.title (\"Ice Sheets vs Sealevel\")\n",
    "plt.xlabel(\"Ice Sheets\")\n",
    "plt.ylabel(\"Sea Level\")\n",
    "plt.show()\n",
    "\n",
    "scipy.stats.linregress(df_sea[\"ice_change\"],df_sea[\"gmsl_change\"])"
   ]
  },
  {
   "cell_type": "code",
   "execution_count": null,
   "metadata": {},
   "outputs": [],
   "source": []
  },
  {
   "cell_type": "code",
   "execution_count": null,
   "metadata": {},
   "outputs": [],
   "source": []
  }
 ],
 "metadata": {
  "kernelspec": {
   "display_name": "Python 3",
   "language": "python",
   "name": "python3"
  },
  "language_info": {
   "codemirror_mode": {
    "name": "ipython",
    "version": 3
   },
   "file_extension": ".py",
   "mimetype": "text/x-python",
   "name": "python",
   "nbconvert_exporter": "python",
   "pygments_lexer": "ipython3",
   "version": "3.6.4"
  }
 },
 "nbformat": 4,
 "nbformat_minor": 2
}
