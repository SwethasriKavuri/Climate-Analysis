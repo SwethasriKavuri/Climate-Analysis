{
 "cells": [
  {
   "cell_type": "markdown",
   "metadata": {},
   "source": [
    "# Overview    \n",
    "    - We have seen evidence of global warming in our other tests on Co2 emission. \n",
    "    - We wish to use the same time range for this hypothesis.\n",
    "    - We have Data across US states for all occurances of tornadoes from 1950- present\n",
    "    - We break it into two Intervals: A (1950-1984) and B (1985-2015)\n",
    "    \n",
    "# Question I:\n",
    "### Claim: that Global warming has an effect on number of Tornadoes experienced in the US\n",
    "\n",
    "    - Our NULL hypothesis is the mean yearly occurance or tornadoes remain the same,\n",
    "    - Our Alternative Hypothesis is mean yearly occurrance is different in the two intervals.\n",
    "#### We wish to do a t-test to compare the mean rate of monthly occurance of tornadoes\n",
    "    \n"
   ]
  },
  {
   "cell_type": "code",
   "execution_count": 1,
   "metadata": {},
   "outputs": [],
   "source": [
    "import matplotlib.pyplot as plt\n",
    "\n",
    "import seaborn as sns\n",
    "from scipy import stats\n",
    "import pandas as pd\n",
    "import numpy as np"
   ]
  },
  {
   "cell_type": "code",
   "execution_count": 2,
   "metadata": {},
   "outputs": [],
   "source": [
    "data = pd.read_csv(\"./1950-2017_all_tornadoes_prelim.csv\")"
   ]
  },
  {
   "cell_type": "code",
   "execution_count": 3,
   "metadata": {},
   "outputs": [],
   "source": [
    "tdata = data.groupby(['mo']).size().reset_index(name='counts')"
   ]
  },
  {
   "cell_type": "code",
   "execution_count": 4,
   "metadata": {},
   "outputs": [],
   "source": [
    "# Split data into two intervals\n",
    "t_old = data.loc[(data['yr']>=1955) & (data['yr']<1985)].groupby(['mo']).size().reset_index(name='counts')\n",
    "t_new = data.loc[(data['yr']>=1985) & (data['yr']<=2015)].groupby(['mo']).size().reset_index(name='counts')"
   ]
  },
  {
   "cell_type": "code",
   "execution_count": 5,
   "metadata": {},
   "outputs": [
    {
     "data": {
      "image/png": "[encoded data removed]",
      "text/plain": [
       "<Figure size 432x288 with 1 Axes>"
      ]
     },
     "metadata": {},
     "output_type": "display_data"
    }
   ],
   "source": [
    "# This is the yearly distribution of tornadoes prior to 1985\n",
    "plt.figure()\n",
    "data.loc[(data['yr']>=1955) & (data['yr']<1985)]['mo'].plot.hist(bins=12)\n",
    "plt.show()"
   ]
  },
  {
   "cell_type": "code",
   "execution_count": 6,
   "metadata": {},
   "outputs": [
    {
     "data": {
      "image/png": "[encoded data removed]",
      "text/plain": [
       "<Figure size 432x288 with 1 Axes>"
      ]
     },
     "metadata": {},
     "output_type": "display_data"
    }
   ],
   "source": [
    "# This is the yearly distribution of tornadoes prior to 1985\n",
    "plt.figure()\n",
    "data.loc[(data['yr']>=1985) & (data['yr']<2015)]['mo'].plot.hist(bins=12)\n",
    "plt.show()"
   ]
  },
  {
   "cell_type": "markdown",
   "metadata": {},
   "source": [
    "### Here we run t-test and get the corresponding p-value of the test"
   ]
  },
  {
   "cell_type": "code",
   "execution_count": 7,
   "metadata": {},
   "outputs": [],
   "source": [
    "# P value of the test\n",
    "tstatistic, pval = stats.ttest_ind(t_new['counts'],t_old['counts'], equal_var = False)"
   ]
  },
  {
   "cell_type": "code",
   "execution_count": 8,
   "metadata": {},
   "outputs": [
    {
     "name": "stdout",
     "output_type": "stream",
     "text": [
      "T-statistic is:  1.2583881077225103\n",
      "P-value of test is:  0.22303555399026948\n"
     ]
    }
   ],
   "source": [
    "print('T-statistic is: ', tstatistic)\n",
    "print('P-value of test is: ', pval)"
   ]
  },
  {
   "cell_type": "markdown",
   "metadata": {},
   "source": [
    "So we can Accept the NULL Hypothesis."
   ]
  },
  {
   "cell_type": "markdown",
   "metadata": {},
   "source": [
    "# Question 2:\n",
    "### Dixie Alley Tornado Zone Phenomenon is an urban myth\n",
    "This hypothesis needs verification of several questions:\n",
    "    - (a) Observing whether the change has happened in Dixie alley from interval A to interval B\n",
    "    - (b) Observing whether the change is consistent in original tornado alley as well\n",
    "    - (c) In interval B, If mean has changes in Dixie Alley compared to Tornado Alley"
   ]
  },
  {
   "cell_type": "markdown",
   "metadata": {},
   "source": [
    "#### Part A\n",
    "Claim: Mean frequency of Tornadoes experienced in Dixie Alley has changed from prior to 1985\n",
    "     - H0: The mean frequency of tornadoes seen remains same before and after 1985\n",
    "     - H1: There is a shift in the mean frequency of tornadoes observed\n"
   ]
  },
  {
   "cell_type": "code",
   "execution_count": 9,
   "metadata": {},
   "outputs": [],
   "source": [
    "original_tornado_alley = ['TX','OK','KS','SD','IA','IL','MO','NE','CO','ND','MN']\n",
    "dixie_alley_states = ['LA','MS','AL','GA','SC','TX','AR','NC','MO']"
   ]
  },
  {
   "cell_type": "code",
   "execution_count": 10,
   "metadata": {},
   "outputs": [],
   "source": [
    "t_old_dixie = data.loc[data['st'].apply(lambda x: True if x in dixie_alley_states else False) & (data['yr']>=1955) & (data['yr']<1985)].groupby(['mo']).size().reset_index(name='counts')\n",
    "t_new_dixie = data.loc[data['st'].apply(lambda x: True if x in dixie_alley_states else False) & (data['yr']>=1985) & (data['yr']<2015)].groupby(['mo']).size().reset_index(name='counts')"
   ]
  },
  {
   "cell_type": "code",
   "execution_count": 11,
   "metadata": {},
   "outputs": [
    {
     "data": {
      "image/png": "[encoded data removed]",
      "text/plain": [
       "<Figure size 432x288 with 1 Axes>"
      ]
     },
     "metadata": {},
     "output_type": "display_data"
    }
   ],
   "source": [
    "# Distribution of dixie alley tornado distribution before 1985\n",
    "plt.figure()\n",
    "data.loc[data['st'].apply(lambda x: True if x in dixie_alley_states else False) & (data['yr']>=1955) & (data['yr']<1985)]['mo'].plot.hist(bins=12)\n",
    "plt.show()"
   ]
  },
  {
   "cell_type": "code",
   "execution_count": 12,
   "metadata": {},
   "outputs": [
    {
     "data": {
      "image/png": "[encoded data removed]",
      "text/plain": [
       "<Figure size 432x288 with 1 Axes>"
      ]
     },
     "metadata": {},
     "output_type": "display_data"
    }
   ],
   "source": [
    "# Distribution of dixie alley tornado distribution before 1985\n",
    "plt.figure()\n",
    "data.loc[data['st'].apply(lambda x: True if x in dixie_alley_states else False) & (data['yr']>=1985) & (data['yr']<2015)]['mo'].plot.hist(bins=12)\n",
    "plt.show()"
   ]
  },
  {
   "cell_type": "code",
   "execution_count": 13,
   "metadata": {},
   "outputs": [
    {
     "data": {
      "text/plain": [
       "Ttest_indResult(statistic=1.1819620723243425, pvalue=0.25037233729279673)"
      ]
     },
     "execution_count": 13,
     "metadata": {},
     "output_type": "execute_result"
    }
   ],
   "source": [
    "# Here's the t-test and p-value of it\n",
    "stats.ttest_ind(t_new_dixie['counts'],t_old_dixie['counts'], equal_var = False)"
   ]
  },
  {
   "cell_type": "markdown",
   "metadata": {},
   "source": [
    "We accept NULL"
   ]
  },
  {
   "cell_type": "markdown",
   "metadata": {},
   "source": [
    "#### Part B\n",
    "Claim: Tornado activity i.e mean frequency of observed tornadoes in Tornado alley has reduced\n",
    "    - H0: Mean of frequency distribution of observed tornadoes has not changed from prior to 1985\n",
    "    - H1: Mean of frequency distribution has changed from prior to 1985"
   ]
  },
  {
   "cell_type": "code",
   "execution_count": 14,
   "metadata": {},
   "outputs": [],
   "source": [
    "t_old_tor = data.loc[data['st'].apply(lambda x: True if x in original_tornado_alley else False)& (data['yr']>=1955) & (data['yr']<1985)].groupby(['mo']).size().reset_index(name='counts')\n",
    "t_new_tor = data.loc[data['st'].apply(lambda x: True if x in original_tornado_alley else False)& (data['yr']>=1985) & (data['yr']<2015)].groupby(['mo']).size().reset_index(name='counts')"
   ]
  },
  {
   "cell_type": "code",
   "execution_count": 15,
   "metadata": {},
   "outputs": [
    {
     "data": {
      "image/png": "[encoded data removed]",
      "text/plain": [
       "<Figure size 432x288 with 1 Axes>"
      ]
     },
     "metadata": {},
     "output_type": "display_data"
    }
   ],
   "source": [
    "plt.figure()\n",
    "data.loc[data['st'].apply(lambda x: True if x in original_tornado_alley else False)& (data['yr']>=1955) & (data['yr']<1985)]['mo'].plot.hist(bins=12)\n",
    "plt.show()"
   ]
  },
  {
   "cell_type": "code",
   "execution_count": 16,
   "metadata": {},
   "outputs": [
    {
     "data": {
      "image/png": "[encoded data removed]",
      "text/plain": [
       "<Figure size 432x288 with 1 Axes>"
      ]
     },
     "metadata": {},
     "output_type": "display_data"
    }
   ],
   "source": [
    "plt.figure()\n",
    "data.loc[data['st'].apply(lambda x: True if x in original_tornado_alley else False)& (data['yr']>=1985) & (data['yr']<2015)]['mo'].plot.hist(bins=12)\n",
    "plt.show()"
   ]
  },
  {
   "cell_type": "code",
   "execution_count": 17,
   "metadata": {},
   "outputs": [
    {
     "data": {
      "text/plain": [
       "Ttest_indResult(statistic=0.7349917998610942, pvalue=0.47108578855162664)"
      ]
     },
     "execution_count": 17,
     "metadata": {},
     "output_type": "execute_result"
    }
   ],
   "source": [
    "# Following is the t-statistic and the p-value\n",
    "stats.ttest_ind(t_new_tor['counts'],t_old_tor['counts'], equal_var = False)"
   ]
  },
  {
   "cell_type": "markdown",
   "metadata": {},
   "source": [
    "We accept NULL"
   ]
  },
  {
   "cell_type": "markdown",
   "metadata": {},
   "source": [
    "### Part C:\n",
    "Claim: Mean of Frequency distribution of Tornadoes seen in Tornado Alley and Dixie Alley are different post 1985\n",
    "    - H0: Mean of frequency distribution of tornadoes in Tornado Alley and Dixie Alley remains same post 1985\n",
    "    - H1: Mean of frequency distribution of tornadoes in Tornado alley and Dixie Alley differ\n"
   ]
  },
  {
   "cell_type": "code",
   "execution_count": 18,
   "metadata": {},
   "outputs": [
    {
     "data": {
      "text/plain": [
       "Ttest_indResult(statistic=0.9285004022089426, pvalue=0.36834491450362783)"
      ]
     },
     "execution_count": 18,
     "metadata": {},
     "output_type": "execute_result"
    }
   ],
   "source": [
    "stats.ttest_ind(t_new_tor['counts'],t_new_dixie['counts'], equal_var = False)"
   ]
  },
  {
   "cell_type": "markdown",
   "metadata": {},
   "source": [
    "We accept NULL"
   ]
  },
  {
   "cell_type": "code",
   "execution_count": null,
   "metadata": {},
   "outputs": [],
   "source": []
  }
 ],
 "metadata": {
  "kernelspec": {
   "display_name": "Python 3",
   "language": "python",
   "name": "python3"
  },
  "language_info": {
   "codemirror_mode": {
    "name": "ipython",
    "version": 3
   },
   "file_extension": ".py",
   "mimetype": "text/x-python",
   "name": "python",
   "nbconvert_exporter": "python",
   "pygments_lexer": "ipython3",
   "version": "3.6.4"
  }
 },
 "nbformat": 4,
 "nbformat_minor": 2
}
